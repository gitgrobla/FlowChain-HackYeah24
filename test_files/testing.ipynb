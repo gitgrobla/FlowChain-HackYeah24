{
 "cells": [
  {
   "cell_type": "code",
   "execution_count": 11,
   "metadata": {},
   "outputs": [
    {
     "name": "stdout",
     "output_type": "stream",
     "text": [
      "some code .fill(\"new content\") some more code\n"
     ]
    }
   ],
   "source": [
    "import re\n",
    "\n",
    "text = 'some code .fill(\"replace this\") some more code'\n",
    "new_text = re.sub(r'\\.fill\\(\".*?\"\\)', '.fill(\"new content\")', text)\n",
    "\n",
    "print(new_text)"
   ]
  },
  {
   "cell_type": "code",
   "execution_count": 1,
   "metadata": {},
   "outputs": [
    {
     "name": "stdout",
     "output_type": "stream",
     "text": [
      "some code .fill(\"juziu\") some more code\n"
     ]
    }
   ],
   "source": [
    "import utils\n",
    "text = 'some code .fill(\"replace this\") some more code'\n",
    "a = utils.replace_in_fill(text, \"juziu\")\n",
    "print(a)"
   ]
  }
 ],
 "metadata": {
  "kernelspec": {
   "display_name": ".venv",
   "language": "python",
   "name": "python3"
  },
  "language_info": {
   "codemirror_mode": {
    "name": "ipython",
    "version": 3
   },
   "file_extension": ".py",
   "mimetype": "text/x-python",
   "name": "python",
   "nbconvert_exporter": "python",
   "pygments_lexer": "ipython3",
   "version": "3.12.6"
  }
 },
 "nbformat": 4,
 "nbformat_minor": 2
}
