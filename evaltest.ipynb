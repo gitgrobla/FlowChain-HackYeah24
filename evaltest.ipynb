{
 "cells": [
  {
   "cell_type": "code",
   "execution_count": 1,
   "metadata": {},
   "outputs": [
    {
     "name": "stdout",
     "output_type": "stream",
     "text": [
      "\n",
      "import asyncio\n",
      "import re\n",
      "from playwright.async_api import Playwright, async_playwright, expect\n",
      "\n",
      "\n",
      "async def run(playwright: Playwright) -> None:\n",
      "    global HTML\n",
      "    browser = await playwright.chromium.launch()\n",
      "    context = await browser.new_context()\n",
      "    page = await context.new_page()\n",
      "    \n",
      "    await page.goto(\"https://chomikuj.pl/\")\n",
      "    await page.get_by_label(\"Chomik\").click()\n",
      "    await page.get_by_label(\"Chomik\").fill(\"juzek\")\n",
      "    await page.get_by_label(\"Chomik\").press(\"Tab\")\n",
      "    await page.get_by_title(\"Hasło\").fill(\"lab2\")\n",
      "    await page.get_by_title(\"Hasło\").press(\"Enter\")\n",
      "    await page.get_by_role(\"link\", name=\"Opcje\").click()\n",
      "    await page.get_by_role(\"button\", name=\"Rozumiem Przechodzę do serwisu\").click()\n",
      "    await page.get_by_role(\"button\", name=\"OK\").click()\n",
      "    await page.get_by_role(\"link\", name=\"Ustawienia\").click()\n",
      "\n",
      "    HTML = await page.content()\n",
      "    # ---------------------\n",
      "    await context.close()\n",
      "    await browser.close()\n",
      "\n",
      "\n",
      "async def run_playwright() -> str:\n",
      "    async with async_playwright() as playwright:\n",
      "        await run(playwright)\n",
      "        \n"
     ]
    }
   ],
   "source": [
    "from eval_utils import eval_user_steps\n",
    "import asyncio\n",
    "\n",
    "await eval_user_steps(\"juzek\", \"lab2\")"
   ]
  }
 ],
 "metadata": {
  "kernelspec": {
   "display_name": ".venv",
   "language": "python",
   "name": "python3"
  },
  "language_info": {
   "codemirror_mode": {
    "name": "ipython",
    "version": 3
   },
   "file_extension": ".py",
   "mimetype": "text/x-python",
   "name": "python",
   "nbconvert_exporter": "python",
   "pygments_lexer": "ipython3",
   "version": "3.12.6"
  }
 },
 "nbformat": 4,
 "nbformat_minor": 2
}
