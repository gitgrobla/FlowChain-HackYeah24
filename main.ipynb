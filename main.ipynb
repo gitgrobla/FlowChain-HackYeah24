{
 "cells": [
  {
   "cell_type": "code",
   "execution_count": 2,
   "metadata": {},
   "outputs": [
    {
     "name": "stderr",
     "output_type": "stream",
     "text": [
      "USER_AGENT environment variable not set, consider setting it to identify your requests.\n"
     ]
    }
   ],
   "source": [
    "from langchain_core.prompts import PromptTemplate\n",
    "from langchain_community.document_loaders import WebBaseLoader\n",
    "import getpass, os\n",
    "from langchain_openai import ChatOpenAI\n",
    "from langchain_core.messages import AIMessage, HumanMessage, SystemMessage\n",
    "\n",
    "\n",
    "JOB_DESCRIPTION = \"System tworzy dla użytkownika REST API, które jednorazowo zwraca pożądane przez niego dane (rozwiązanie) w wybranym przez niego formacie.\"\n"
   ]
  },
  {
   "cell_type": "code",
   "execution_count": 29,
   "metadata": {},
   "outputs": [],
   "source": [
    "\n",
    "if not os.environ.get(\"OPENAI_API_KEY\"):\n",
    "    os.environ[\"OPENAI_API_KEY\"] = getpass.getpass(\"Enter your OpenAI API key: \")\n",
    "\n",
    "llm = ChatOpenAI(\n",
    "    model=\"gpt-4o-mini\",\n",
    "    temperature=0,\n",
    "    max_tokens=None,\n",
    "    timeout=None,\n",
    "    max_retries=2,\n",
    "    # api_key=\"...\",  # if you prefer to pass api key in directly instaed of using env vars\n",
    "    # base_url=\"...\",\n",
    ")"
   ]
  },
  {
   "cell_type": "code",
   "execution_count": 30,
   "metadata": {},
   "outputs": [
    {
     "data": {
      "text/plain": [
       "[SystemMessage(content='System tworzy dla użytkownika REST API, które jednorazowo zwraca pożądane przez niego dane (rozwiązanie) w wybranym przez niego formacie.', additional_kwargs={}, response_metadata={}),\n",
       " SystemMessage(content=\"Dla zapytania uzytkownika zadaj pytania konieczne do uzyskania deterministycznego i pożądanego rozwiązania. Poniżej masz przykładowe pytania: ['1, Na czym Ci najbardziej zależy? Na jakich informacjach, polach, cechach?', '2. W jakim formacie chcesz otrzymać odpowiedź?', '3. Jaki okres czasu chcesz uwzględnić?']\", additional_kwargs={}, response_metadata={}),\n",
       " HumanMessage(content='U: Chcę stworzyć narzędzie pozwalające na znajdywanie aktualnie granych filmów w kinach Helios. Chciałbym znać ocenę tych filmów na serwisach takich jak IMDb i Rotten Tomatoes. Chciałbym również mieć prosty dostęp do trailerów wyświetlanych filmów.', additional_kwargs={}, response_metadata={}),\n",
       " AIMessage(content='Na czym Ci najbardziej zależy?', additional_kwargs={}, response_metadata={}),\n",
       " AIMessage(content='1. Na jakich informacjach, polach, cechach najbardziej Ci zależy? (np. tytuł filmu, ocena IMDb, ocena Rotten Tomatoes, link do trailera itp.)\\n2. W jakim formacie chcesz otrzymać odpowiedź? (np. JSON, XML, CSV)\\n3. Jaki okres czasu chcesz uwzględnić? (np. tylko aktualnie grane filmy, filmy z ostatniego miesiąca itp.)', additional_kwargs={'refusal': None}, response_metadata={'token_usage': {'completion_tokens': 104, 'prompt_tokens': 235, 'total_tokens': 339, 'completion_tokens_details': {'reasoning_tokens': 0}}, 'model_name': 'gpt-4o-mini-2024-07-18', 'system_fingerprint': 'fp_f85bea6784', 'finish_reason': 'stop', 'logprobs': None}, id='run-719b0de9-d360-42d9-b547-88a0a5429ef9-0', usage_metadata={'input_tokens': 235, 'output_tokens': 104, 'total_tokens': 339})]"
      ]
     },
     "execution_count": 30,
     "metadata": {},
     "output_type": "execute_result"
    }
   ],
   "source": [
    "# 1. Zapytanie użytkownika\n",
    "\n",
    "THINGS_TO_CONSIDER = [\n",
    "  \"1, Na czym Ci najbardziej zależy? Na jakich informacjach, polach, cechach?\",\n",
    "  \"2. W jakim formacie chcesz otrzymać odpowiedź?\",\n",
    "  \"3. Jaki okres czasu chcesz uwzględnić?\",\n",
    "]\n",
    "\n",
    "USER_INPUT = \"U: Chcę stworzyć narzędzie pozwalające na znajdywanie aktualnie granych filmów w kinach Helios. Chciałbym znać ocenę tych filmów na serwisach takich jak IMDb i Rotten Tomatoes. Chciałbym również mieć prosty dostęp do trailerów wyświetlanych filmów.\"\n",
    "prompt = (\n",
    "  SystemMessage(content=JOB_DESCRIPTION) +\n",
    "  SystemMessage(content=f\"Dla zapytania uzytkownika zadaj pytania konieczne do uzyskania deterministycznego i pożądanego rozwiązania. Poniżej masz przykładowe pytania: {THINGS_TO_CONSIDER}\") +\n",
    "  HumanMessage(content=USER_INPUT) +\n",
    "  AIMessage(content='Na czym Ci najbardziej zależy?')\n",
    "\n",
    ").format_messages()\n",
    "\n",
    "response1 = llm.invoke(prompt)\n",
    "prompt.append(response1)\n",
    "prompt"
   ]
  },
  {
   "cell_type": "code",
   "execution_count": 31,
   "metadata": {},
   "outputs": [
    {
     "data": {
      "text/plain": [
       "[SystemMessage(content='System tworzy dla użytkownika REST API, które jednorazowo zwraca pożądane przez niego dane (rozwiązanie) w wybranym przez niego formacie.', additional_kwargs={}, response_metadata={}),\n",
       " SystemMessage(content=\"Dla zapytania uzytkownika zadaj pytania konieczne do uzyskania deterministycznego i pożądanego rozwiązania. Poniżej masz przykładowe pytania: ['1, Na czym Ci najbardziej zależy? Na jakich informacjach, polach, cechach?', '2. W jakim formacie chcesz otrzymać odpowiedź?', '3. Jaki okres czasu chcesz uwzględnić?']\", additional_kwargs={}, response_metadata={}),\n",
       " HumanMessage(content='U: Chcę stworzyć narzędzie pozwalające na znajdywanie aktualnie granych filmów w kinach Helios. Chciałbym znać ocenę tych filmów na serwisach takich jak IMDb i Rotten Tomatoes. Chciałbym również mieć prosty dostęp do trailerów wyświetlanych filmów.', additional_kwargs={}, response_metadata={}),\n",
       " AIMessage(content='Na czym Ci najbardziej zależy?', additional_kwargs={}, response_metadata={}),\n",
       " AIMessage(content='1. Na jakich informacjach, polach, cechach najbardziej Ci zależy? (np. tytuł filmu, ocena IMDb, ocena Rotten Tomatoes, link do trailera itp.)\\n2. W jakim formacie chcesz otrzymać odpowiedź? (np. JSON, XML, CSV)\\n3. Jaki okres czasu chcesz uwzględnić? (np. tylko aktualnie grane filmy, filmy z ostatniego miesiąca itp.)', additional_kwargs={'refusal': None}, response_metadata={'token_usage': {'completion_tokens': 104, 'prompt_tokens': 235, 'total_tokens': 339, 'completion_tokens_details': {'reasoning_tokens': 0}}, 'model_name': 'gpt-4o-mini-2024-07-18', 'system_fingerprint': 'fp_f85bea6784', 'finish_reason': 'stop', 'logprobs': None}, id='run-719b0de9-d360-42d9-b547-88a0a5429ef9-0', usage_metadata={'input_tokens': 235, 'output_tokens': 104, 'total_tokens': 339}),\n",
       " HumanMessage(content='Tytuł, czas trwania, gatunek. Chciałbym, aby formatem był JSON, lubie ten format. Zaproponuj strukturę', additional_kwargs={}, response_metadata={}),\n",
       " AIMessage(content='Oto proponowana struktura JSON dla Twojego narzędzia do znajdowania aktualnie granych filmów w kinach Helios:\\n\\n```json\\n{\\n  \"filmy\": [\\n    {\\n      \"tytul\": \"Nazwa filmu\",\\n      \"czas_trwania\": \"Czas trwania w minutach\",\\n      \"gatunek\": \"Gatunek filmu\",\\n      \"ocena_imdb\": \"Ocena na IMDb\",\\n      \"ocena_rotten_tomatoes\": \"Ocena na Rotten Tomatoes\",\\n      \"link_do_trailera\": \"URL do trailera\"\\n    },\\n    {\\n      \"tytul\": \"Nazwa drugiego filmu\",\\n      \"czas_trwania\": \"Czas trwania w minutach\",\\n      \"gatunek\": \"Gatunek drugiego filmu\",\\n      \"ocena_imdb\": \"Ocena na IMDb\",\\n      \"ocena_rotten_tomatoes\": \"Ocena na Rotten Tomatoes\",\\n      \"link_do_trailera\": \"URL do trailera\"\\n    }\\n    // Można dodać więcej filmów w tym formacie\\n  ]\\n}\\n```\\n\\nCzy taka struktura odpowiada Twoim potrzebom? Czy chciałbyś dodać lub zmienić jakieś pola?', additional_kwargs={'refusal': None}, response_metadata={'token_usage': {'completion_tokens': 261, 'prompt_tokens': 381, 'total_tokens': 642, 'completion_tokens_details': {'reasoning_tokens': 0}}, 'model_name': 'gpt-4o-mini-2024-07-18', 'system_fingerprint': 'fp_f85bea6784', 'finish_reason': 'stop', 'logprobs': None}, id='run-c2097bf4-40b2-43c3-8a84-a165bc7b5b82-0', usage_metadata={'input_tokens': 381, 'output_tokens': 261, 'total_tokens': 642})]"
      ]
     },
     "execution_count": 31,
     "metadata": {},
     "output_type": "execute_result"
    }
   ],
   "source": [
    "prompt.append(HumanMessage(content='Tytuł, czas trwania, gatunek. Chciałbym, aby formatem był JSON, lubie ten format. Zaproponuj strukturę'))\n",
    "response = llm.invoke(prompt)\n",
    "prompt.append(response)\n",
    "prompt"
   ]
  },
  {
   "cell_type": "code",
   "execution_count": 32,
   "metadata": {},
   "outputs": [
    {
     "data": {
      "text/plain": [
       "[SystemMessage(content='System tworzy dla użytkownika REST API, które jednorazowo zwraca pożądane przez niego dane (rozwiązanie) w wybranym przez niego formacie.', additional_kwargs={}, response_metadata={}),\n",
       " SystemMessage(content=\"Dla zapytania uzytkownika zadaj pytania konieczne do uzyskania deterministycznego i pożądanego rozwiązania. Poniżej masz przykładowe pytania: ['1, Na czym Ci najbardziej zależy? Na jakich informacjach, polach, cechach?', '2. W jakim formacie chcesz otrzymać odpowiedź?', '3. Jaki okres czasu chcesz uwzględnić?']\", additional_kwargs={}, response_metadata={}),\n",
       " HumanMessage(content='U: Chcę stworzyć narzędzie pozwalające na znajdywanie aktualnie granych filmów w kinach Helios. Chciałbym znać ocenę tych filmów na serwisach takich jak IMDb i Rotten Tomatoes. Chciałbym również mieć prosty dostęp do trailerów wyświetlanych filmów.', additional_kwargs={}, response_metadata={}),\n",
       " AIMessage(content='Na czym Ci najbardziej zależy?', additional_kwargs={}, response_metadata={}),\n",
       " AIMessage(content='1. Na jakich informacjach, polach, cechach najbardziej Ci zależy? (np. tytuł filmu, ocena IMDb, ocena Rotten Tomatoes, link do trailera itp.)\\n2. W jakim formacie chcesz otrzymać odpowiedź? (np. JSON, XML, CSV)\\n3. Jaki okres czasu chcesz uwzględnić? (np. tylko aktualnie grane filmy, filmy z ostatniego miesiąca itp.)', additional_kwargs={'refusal': None}, response_metadata={'token_usage': {'completion_tokens': 104, 'prompt_tokens': 235, 'total_tokens': 339, 'completion_tokens_details': {'reasoning_tokens': 0}}, 'model_name': 'gpt-4o-mini-2024-07-18', 'system_fingerprint': 'fp_f85bea6784', 'finish_reason': 'stop', 'logprobs': None}, id='run-719b0de9-d360-42d9-b547-88a0a5429ef9-0', usage_metadata={'input_tokens': 235, 'output_tokens': 104, 'total_tokens': 339}),\n",
       " HumanMessage(content='Tytuł, czas trwania, gatunek. Chciałbym, aby formatem był JSON, lubie ten format. Zaproponuj strukturę', additional_kwargs={}, response_metadata={}),\n",
       " AIMessage(content='Oto proponowana struktura JSON dla Twojego narzędzia do znajdowania aktualnie granych filmów w kinach Helios:\\n\\n```json\\n{\\n  \"filmy\": [\\n    {\\n      \"tytul\": \"Nazwa filmu\",\\n      \"czas_trwania\": \"Czas trwania w minutach\",\\n      \"gatunek\": \"Gatunek filmu\",\\n      \"ocena_imdb\": \"Ocena na IMDb\",\\n      \"ocena_rotten_tomatoes\": \"Ocena na Rotten Tomatoes\",\\n      \"link_do_trailera\": \"URL do trailera\"\\n    },\\n    {\\n      \"tytul\": \"Nazwa drugiego filmu\",\\n      \"czas_trwania\": \"Czas trwania w minutach\",\\n      \"gatunek\": \"Gatunek drugiego filmu\",\\n      \"ocena_imdb\": \"Ocena na IMDb\",\\n      \"ocena_rotten_tomatoes\": \"Ocena na Rotten Tomatoes\",\\n      \"link_do_trailera\": \"URL do trailera\"\\n    }\\n    // Można dodać więcej filmów w tym formacie\\n  ]\\n}\\n```\\n\\nCzy taka struktura odpowiada Twoim potrzebom? Czy chciałbyś dodać lub zmienić jakieś pola?', additional_kwargs={'refusal': None}, response_metadata={'token_usage': {'completion_tokens': 261, 'prompt_tokens': 381, 'total_tokens': 642, 'completion_tokens_details': {'reasoning_tokens': 0}}, 'model_name': 'gpt-4o-mini-2024-07-18', 'system_fingerprint': 'fp_f85bea6784', 'finish_reason': 'stop', 'logprobs': None}, id='run-c2097bf4-40b2-43c3-8a84-a165bc7b5b82-0', usage_metadata={'input_tokens': 381, 'output_tokens': 261, 'total_tokens': 642})]"
      ]
     },
     "execution_count": 32,
     "metadata": {},
     "output_type": "execute_result"
    }
   ],
   "source": [
    "# prompt = prompt[:4]\n",
    "prompt"
   ]
  },
  {
   "cell_type": "code",
   "execution_count": 33,
   "metadata": {},
   "outputs": [
    {
     "data": {
      "text/plain": [
       "[SystemMessage(content='System tworzy dla użytkownika REST API, które jednorazowo zwraca pożądane przez niego dane (rozwiązanie) w wybranym przez niego formacie.', additional_kwargs={}, response_metadata={}),\n",
       " SystemMessage(content=\"Dla zapytania uzytkownika zadaj pytania konieczne do uzyskania deterministycznego i pożądanego rozwiązania. Poniżej masz przykładowe pytania: ['1, Na czym Ci najbardziej zależy? Na jakich informacjach, polach, cechach?', '2. W jakim formacie chcesz otrzymać odpowiedź?', '3. Jaki okres czasu chcesz uwzględnić?']\", additional_kwargs={}, response_metadata={}),\n",
       " HumanMessage(content='U: Chcę stworzyć narzędzie pozwalające na znajdywanie aktualnie granych filmów w kinach Helios. Chciałbym znać ocenę tych filmów na serwisach takich jak IMDb i Rotten Tomatoes. Chciałbym również mieć prosty dostęp do trailerów wyświetlanych filmów.', additional_kwargs={}, response_metadata={}),\n",
       " AIMessage(content='Na czym Ci najbardziej zależy?', additional_kwargs={}, response_metadata={}),\n",
       " AIMessage(content='1. Na jakich informacjach, polach, cechach najbardziej Ci zależy? (np. tytuł filmu, ocena IMDb, ocena Rotten Tomatoes, link do trailera itp.)\\n2. W jakim formacie chcesz otrzymać odpowiedź? (np. JSON, XML, CSV)\\n3. Jaki okres czasu chcesz uwzględnić? (np. tylko aktualnie grane filmy, filmy z ostatniego miesiąca itp.)', additional_kwargs={'refusal': None}, response_metadata={'token_usage': {'completion_tokens': 104, 'prompt_tokens': 235, 'total_tokens': 339, 'completion_tokens_details': {'reasoning_tokens': 0}}, 'model_name': 'gpt-4o-mini-2024-07-18', 'system_fingerprint': 'fp_f85bea6784', 'finish_reason': 'stop', 'logprobs': None}, id='run-719b0de9-d360-42d9-b547-88a0a5429ef9-0', usage_metadata={'input_tokens': 235, 'output_tokens': 104, 'total_tokens': 339}),\n",
       " HumanMessage(content='Tytuł, czas trwania, gatunek. Chciałbym, aby formatem był JSON, lubie ten format. Zaproponuj strukturę', additional_kwargs={}, response_metadata={}),\n",
       " AIMessage(content='Oto proponowana struktura JSON dla Twojego narzędzia do znajdowania aktualnie granych filmów w kinach Helios:\\n\\n```json\\n{\\n  \"filmy\": [\\n    {\\n      \"tytul\": \"Nazwa filmu\",\\n      \"czas_trwania\": \"Czas trwania w minutach\",\\n      \"gatunek\": \"Gatunek filmu\",\\n      \"ocena_imdb\": \"Ocena na IMDb\",\\n      \"ocena_rotten_tomatoes\": \"Ocena na Rotten Tomatoes\",\\n      \"link_do_trailera\": \"URL do trailera\"\\n    },\\n    {\\n      \"tytul\": \"Nazwa drugiego filmu\",\\n      \"czas_trwania\": \"Czas trwania w minutach\",\\n      \"gatunek\": \"Gatunek drugiego filmu\",\\n      \"ocena_imdb\": \"Ocena na IMDb\",\\n      \"ocena_rotten_tomatoes\": \"Ocena na Rotten Tomatoes\",\\n      \"link_do_trailera\": \"URL do trailera\"\\n    }\\n    // Można dodać więcej filmów w tym formacie\\n  ]\\n}\\n```\\n\\nCzy taka struktura odpowiada Twoim potrzebom? Czy chciałbyś dodać lub zmienić jakieś pola?', additional_kwargs={'refusal': None}, response_metadata={'token_usage': {'completion_tokens': 261, 'prompt_tokens': 381, 'total_tokens': 642, 'completion_tokens_details': {'reasoning_tokens': 0}}, 'model_name': 'gpt-4o-mini-2024-07-18', 'system_fingerprint': 'fp_f85bea6784', 'finish_reason': 'stop', 'logprobs': None}, id='run-c2097bf4-40b2-43c3-8a84-a165bc7b5b82-0', usage_metadata={'input_tokens': 381, 'output_tokens': 261, 'total_tokens': 642}),\n",
       " AIMessage(content='', additional_kwargs={'tool_calls': [{'id': 'call_7prj3JYtGvGICxE1cxa9aDu6', 'function': {'arguments': '{}', 'name': 'scrape_data_from_web'}, 'type': 'function'}], 'refusal': None}, response_metadata={'token_usage': {'completion_tokens': 13, 'prompt_tokens': 66, 'total_tokens': 79, 'completion_tokens_details': {'reasoning_tokens': 0}}, 'model_name': 'gpt-4o-mini-2024-07-18', 'system_fingerprint': 'fp_f85bea6784', 'finish_reason': 'tool_calls', 'logprobs': None}, id='run-0d5ebeb1-0a72-4b0c-99c5-ddb8c3e68666-0', tool_calls=[{'name': 'scrape_data_from_web', 'args': {}, 'id': 'call_7prj3JYtGvGICxE1cxa9aDu6', 'type': 'tool_call'}], usage_metadata={'input_tokens': 66, 'output_tokens': 13, 'total_tokens': 79}),\n",
       " AIMessage(content='', additional_kwargs={'tool_calls': [{'id': 'call_kWzI5z81GAQ9atE1tFXnufvn', 'function': {'arguments': '{}', 'name': 'scrape_data_from_web'}, 'type': 'function'}], 'refusal': None}, response_metadata={'token_usage': {'completion_tokens': 13, 'prompt_tokens': 66, 'total_tokens': 79, 'completion_tokens_details': {'reasoning_tokens': 0}}, 'model_name': 'gpt-4o-mini-2024-07-18', 'system_fingerprint': 'fp_f85bea6784', 'finish_reason': 'tool_calls', 'logprobs': None}, id='run-bad36010-9c44-4475-a9ef-79a82efeb6ee-0', tool_calls=[{'name': 'scrape_data_from_web', 'args': {}, 'id': 'call_kWzI5z81GAQ9atE1tFXnufvn', 'type': 'tool_call'}], usage_metadata={'input_tokens': 66, 'output_tokens': 13, 'total_tokens': 79})]"
      ]
     },
     "execution_count": 33,
     "metadata": {},
     "output_type": "execute_result"
    }
   ],
   "source": [
    "URL = \"https://helios.pl/wroclaw/kino-helios-aleja-bielany/repertuar\"\n",
    "\n",
    "from langchain_core.documents import Document\n",
    "from typing import List\n",
    "from langchain.document_loaders import WebBaseLoader\n",
    "from langchain_core.tools import tool\n",
    "\n",
    "GOOD = False\n",
    "\n",
    "@tool\n",
    "def scrape_data_from_web() -> str:\n",
    "  \"\"\"\n",
    "  This tool scrapes data from the web\n",
    "  \"\"\"\n",
    "  loader = WebBaseLoader(URL)\n",
    "  print('sraka')\n",
    "  loader = loader.load()\n",
    "  return loader[0].page_content\n",
    "\n",
    "# @tool \n",
    "# def \n",
    "\n",
    "tools = [ scrape_data_from_web ]\n",
    "\n",
    "llm_with_tools = llm.bind_tools(tools)\n",
    "\n",
    "def validate_output(output):\n",
    "  pass\n",
    "\n",
    "counter = 0\n",
    "receipe = []\n",
    "while True:\n",
    "  counter += 1\n",
    "\n",
    "  response = llm_with_tools.invoke(\"Wybierz pierwszy krok, który należy wykonać, aby stworzyć API. Wykorzystaj narzędzie\")\n",
    "  prompt.append(response)\n",
    "\n",
    "  if response.tool_cals:\n",
    "    receipe.append(response.tool_cals)\n",
    "\n",
    "  if validate_output(response):\n",
    "    break\n",
    "  if counter > 1:\n",
    "    break\n",
    "\n",
    "prompt\n",
    "\n",
    "# 1 wymagania api\n",
    "# "
   ]
  },
  {
   "cell_type": "code",
   "execution_count": 35,
   "metadata": {},
   "outputs": [
    {
     "data": {
      "text/plain": [
       "{'name': 'scrape_data_from_web',\n",
       " 'args': {},\n",
       " 'id': 'call_kWzI5z81GAQ9atE1tFXnufvn',\n",
       " 'type': 'tool_call'}"
      ]
     },
     "execution_count": 35,
     "metadata": {},
     "output_type": "execute_result"
    }
   ],
   "source": [
    "prompt[-1].tool_calls[0]\n"
   ]
  },
  {
   "cell_type": "code",
   "execution_count": 30,
   "metadata": {},
   "outputs": [
    {
     "data": {
      "text/plain": [
       "[Document(metadata={'description': 'Serwis internetowy sieci kin Helios', 'language': 'pl', 'source': 'https://helios.pl/wroclaw/kino-helios-aleja-bielany/repertuar', 'title': 'Repertuar: Kino Wrocław Helios Aleja Bielany | Helios'}, page_content='Kontakt z kinem\\n  \\n        Repertuar\\n       \\n        Cennik\\n       Dzieci  Wydarzenia  \\n        Aktualności\\n       Więcej     Repertuar - Wrocław Helios Aleja Bielany \\n          Teraz gramy\\n         Repertuar na kolejny tydzień w każdy wtorek po godzinie 17:00 \\n    Wybierz interesujący Cię dzień\\n    Dzisiaj 28 wrzJutro 29 wrzpon. 30 wrzwt. 1 paźśr. 2 paźczw. 3 paźpt. 4 paźsob. 5 paźndz. 6 paźwt. 8 paźśr. 9 paźsob. 12 paźśr. 16 paźsob. 19 paźśr. 23 paźsob. 16 lissob. 30 lisndz. 29 gru   Zobacz ile możesz zyskać!     \\n      Napisy\\n    \\n      Dubbing\\n         \\n      Film polski\\n        Gatunek \\n        Pokaż wszystkie\\n       \\n        Pokaż wszystkie\\n      \\n        Animowany\\n      \\n        Komedia\\n      \\n        Dramat\\n      \\n        Fantasy\\n      \\n        Horror\\n      \\n        Science fiction\\n      \\n        Biograficzny\\n      \\n        Thriller\\n      \\n        Akcja\\n      \\n        Przygodowy\\n      \\n        Familijny\\n      \\n        Kryminał\\n      \\n        Romans\\n      \\n        Wojenny\\n      \\n        Koncert \\n      \\n        Anime\\n      \\n        Dokumentalny\\n      \\n        Balet\\n             Do południa Po połudnu Wieczorem        \\n        Helios dla Dzieci\\n         Smok Diplodok - przedpremierowe seanse z konkursami Animowany 2D 10:00  dubbing 12:15  dubbing         \\n        przedpremiera\\n       Od 15 lat  Kulej. Dwie strony medalu Dramat, biograficzny 2D  17:00           \\n        przedpremiera\\n       Od 13 lat  Simona Kossak Dramat, biograficzny 2D  14:40           \\n        przedpremiera\\n       Od 15 lat  Pod wulkanem Dramat 2D  20:15          \\n        familijny\\n      \\n        premiera\\n       Od 7 lat  Akademia magii Animowany 2D 10:15  dubbing 12:30  dubbing  16:40  dubbing         \\n        premiera\\n       Od 15 lat  Aftermath. Most w ogniu Thriller, akcja 2D  14:30  napisy  19:00  napisy 21:15  napisy        \\n        premiera\\n       Od 13 lat  Reagan Dramat, biograficzny 2D  13:45  napisy  20:00  napisy         Od 15 lat  Interstellar Przygodowy, science fiction 2D  18:45  napisy       Od 13 lat  Gladiator Dramat, przygodowy, akcja 2D  19:15  napisy         Od 13 lat  7.1  Beetlejuice Beetlejuice Fantasy, horror, komedia 2D  13:15  dubbing  18:15  napisy 20:45  napisy         Od 15 lat  Substancja Horror, dramat 2D  16:50  napisy  20:30  napisy        \\n        familijny\\n       Od 7 lat  Transformers: Początek Animowany 2D 11:30  dubbing  14:00  dubbing 16:30  dubbing          Od 15 lat  Drużyna A(A) Komedia, dramat 2D 12:00    17:30           \\n        familijny\\n         7.8  W głowie się nie mieści 2 Animowany 2D 11:15  dubbing  15:00  dubbing          Od 15 lat  8.0  Deadpool & Wolverine Fantasy, komedia, akcja 2D  16:15  napisy          Od 15 lat  7.0  Nie mów zła Thriller, horror 2D  15:45  napisy         \\n        familijny\\n       Od 6 lat  6.2  Gru i Minionki: Pod Przykrywką Animowany 2D 10:45  dubbing         \\n        familijny\\n       Od 7 lat  Ozi: Głos deszczowego lasu Animowany 2D 11:40  dubbing          Od 15 lat  7.4  Obcy: Romulus Horror, science fiction 2D  13:30  napisy     \\n    Zapowiedzi\\n   \\n    Nie przegap zbliżających się premier\\n       \\n    Już w sprzedaży\\n  \\n    Napisy\\n      Joker: Folie a Deux  od 4 października 2024 Harleen Quinzel, psychiatra w szpitalu Arkham, zakochuje się w tajemniczym pacjencie, Jokerze. Razem próbują uciec z zakładu psychiatrycznego, niosąc ze sobą burzliwy romans pełen szaleństwa i niebezpieczeństwa.   \\n    Dubbing\\n  \\n    Film polski\\n      Smok Diplodok  od 4 października 2024 Manifest wielkiej siły wyobraźni i wiary we własne możliwości w przełomowej i pełnej rozmachu polskiej animacji, inspirowanej komiksami legendarnego Tadeusza Baranowskiego.   \\n    Zobacz przedpremierowo\\n  \\n    Film polski'),\n",
       " Document(metadata={'description': 'Serwis internetowy sieci kin Helios', 'language': 'pl', 'source': 'https://helios.pl/wroclaw/kino-helios-aleja-bielany/repertuar', 'title': 'Repertuar: Kino Wrocław Helios Aleja Bielany | Helios'}, page_content='Kontakt z kinem\\n  \\n        Repertuar\\n       \\n        Cennik\\n       Dzieci  Wydarzenia  \\n        Aktualności\\n       Więcej     Repertuar - Wrocław Helios Aleja Bielany \\n          Teraz gramy\\n         Repertuar na kolejny tydzień w każdy wtorek po godzinie 17:00 \\n    Wybierz interesujący Cię dzień\\n    Dzisiaj 28 wrzJutro 29 wrzpon. 30 wrzwt. 1 paźśr. 2 paźczw. 3 paźpt. 4 paźsob. 5 paźndz. 6 paźwt. 8 paźśr. 9 paźsob. 12 paźśr. 16 paźsob. 19 paźśr. 23 paźsob. 16 lissob. 30 lisndz. 29 gru   Zobacz ile możesz zyskać!     \\n      Napisy\\n    \\n      Dubbing\\n         \\n      Film polski\\n        Gatunek \\n        Pokaż wszystkie\\n       \\n        Pokaż wszystkie\\n      \\n        Animowany\\n      \\n        Komedia\\n      \\n        Dramat\\n      \\n        Fantasy\\n      \\n        Horror\\n      \\n        Science fiction\\n      \\n        Biograficzny\\n      \\n        Thriller\\n      \\n        Akcja\\n      \\n        Przygodowy\\n      \\n        Familijny\\n      \\n        Kryminał\\n      \\n        Romans\\n      \\n        Wojenny\\n      \\n        Koncert \\n      \\n        Anime\\n      \\n        Dokumentalny\\n      \\n        Balet\\n             Do południa Po połudnu Wieczorem        \\n        Helios dla Dzieci\\n         Smok Diplodok - przedpremierowe seanse z konkursami Animowany 2D 10:00  dubbing 12:15  dubbing         \\n        przedpremiera\\n       Od 15 lat  Kulej. Dwie strony medalu Dramat, biograficzny 2D  17:00           \\n        przedpremiera\\n       Od 13 lat  Simona Kossak Dramat, biograficzny 2D  14:40           \\n        przedpremiera\\n       Od 15 lat  Pod wulkanem Dramat 2D  20:15          \\n        familijny\\n      \\n        premiera\\n       Od 7 lat  Akademia magii Animowany 2D 10:15  dubbing 12:30  dubbing  16:40  dubbing         \\n        premiera\\n       Od 15 lat  Aftermath. Most w ogniu Thriller, akcja 2D  14:30  napisy  19:00  napisy 21:15  napisy        \\n        premiera\\n       Od 13 lat  Reagan Dramat, biograficzny 2D  13:45  napisy  20:00  napisy         Od 15 lat  Interstellar Przygodowy, science fiction 2D  18:45  napisy       Od 13 lat  Gladiator Dramat, przygodowy, akcja 2D  19:15  napisy         Od 13 lat  7.1  Beetlejuice Beetlejuice Fantasy, horror, komedia 2D  13:15  dubbing  18:15  napisy 20:45  napisy         Od 15 lat  Substancja Horror, dramat 2D  16:50  napisy  20:30  napisy        \\n        familijny\\n       Od 7 lat  Transformers: Początek Animowany 2D 11:30  dubbing  14:00  dubbing 16:30  dubbing          Od 15 lat  Drużyna A(A) Komedia, dramat 2D 12:00    17:30           \\n        familijny\\n         7.8  W głowie się nie mieści 2 Animowany 2D 11:15  dubbing  15:00  dubbing          Od 15 lat  8.0  Deadpool & Wolverine Fantasy, komedia, akcja 2D  16:15  napisy          Od 15 lat  7.0  Nie mów zła Thriller, horror 2D  15:45  napisy         \\n        familijny\\n       Od 6 lat  6.2  Gru i Minionki: Pod Przykrywką Animowany 2D 10:45  dubbing         \\n        familijny\\n       Od 7 lat  Ozi: Głos deszczowego lasu Animowany 2D 11:40  dubbing          Od 15 lat  7.4  Obcy: Romulus Horror, science fiction 2D  13:30  napisy     \\n    Zapowiedzi\\n   \\n    Nie przegap zbliżających się premier\\n       \\n    Już w sprzedaży\\n  \\n    Napisy\\n      Joker: Folie a Deux  od 4 października 2024 Harleen Quinzel, psychiatra w szpitalu Arkham, zakochuje się w tajemniczym pacjencie, Jokerze. Razem próbują uciec z zakładu psychiatrycznego, niosąc ze sobą burzliwy romans pełen szaleństwa i niebezpieczeństwa.   \\n    Dubbing\\n  \\n    Film polski\\n      Smok Diplodok  od 4 października 2024 Manifest wielkiej siły wyobraźni i wiary we własne możliwości w przełomowej i pełnej rozmachu polskiej animacji, inspirowanej komiksami legendarnego Tadeusza Baranowskiego.   \\n    Zobacz przedpremierowo\\n  \\n    Film polski'),\n",
       " Document(metadata={'description': 'Serwis internetowy sieci kin Helios', 'language': 'pl', 'source': 'https://helios.pl/wroclaw/kino-helios-aleja-bielany/repertuar', 'title': 'Repertuar: Kino Wrocław Helios Aleja Bielany | Helios'}, page_content='Zobacz przedpremierowo\\n  \\n    Film polski\\n      Kulej. Dwie strony medalu  od 11 października 2024 „Kulej. Dwie strony medalu” to historia Jerzego i Heleny Kulejów – najbardziej barwnego małżeństwa Polski lat 60-tych.       Dziki robot  od 11 października 2024 Historia robota ROZZUM, w skrócie \"Roz\" - który rozbija się na niezamieszkanej wyspie i musi się przystosować do surowego otoczenia.   \\n    Zobacz przedpremierowo\\n  \\n    Film polski\\n      Wrooklyn Zoo  od 18 października 2024 Uwodząca klimatem, iskrząca emocjami i pulsująca muzyką techno, hip hopu i punk rocka opowieść o burzliwej pierwszej miłości pary młodych ludzi. Ich buncie, dorastaniu i gorącym uczuciu na przekór wszystkim i wszystkiemu.       Venom 3: Ostatni taniec  od 25 października 2024 VENOM: OSTATNI TANIEC, czyli finał trylogii z Tomem Hardy’m w tytułowej roli, o jednej z największych i najbardziej złożonych postaci Marvela, w kinach od 25 października 2024r.          \\n    Newsletter\\n   Bądź na bieżąco z najnowszymi premierami, wydarzeniami i ofertami specjalnymi, kuponami rabatowymi      Zapisz mnie   Podanie adresu e-mail oznacza wyrażenie zgody na otrzymywanie informacji handlowych o charakterze marketingowym, w tym dotyczących repertuaru, wydarzeń i konkursów organizowanych przez Helios S.A. wysyłanych za pomocą środków komunikacji elektronicznej przez Helios S.A. Administratorem danych osobowych jest Helios S.A. z siedzibą w Łodzi (90-318) przy ul. Sienkiewicza 82/84. Pani/Pana dane będą przetwarzane w celu wykonania zamówionej usługi. Więcej informacji na temat przetwarzania danych osobowych znajduje się w Polityce Prywatności. \\n    Obserwuj nas\\n    Facebook  Instagram  YouTube  TikTok \\n    Aplikacje helios\\n      Sieć kin Helios  \\n        O nas\\n      \\n        Nasze kina\\n      \\n        Dla akcjonariuszy\\n      Reklama w kinachAplikacje mobilne\\n        Praca\\n      Twoje kino  \\n        Wrocław Helios Aleja Bielany\\n      \\n        Dane kontaktowe\\n      Regulamin kinaZwrotyDla firm  \\n        Reklama\\n      \\n        Wynajem sal\\n      \\n        Kupony\\n      \\n        Kontakt\\n      Dla szkół  \\n        Helios dla Szkoły\\n      \\n        Akademia Filmowa\\n      \\n        Kino na Temat\\n      \\n        Kino na Temat Jr\\n      Więcej  \\n        Jak dbamy o Twoje dane osobowe\\n      \\n        Polityka prywatności\\n      \\n        Polityka transparentności\\n      \\n        Zgody\\n      \\n        Regulamin e-sprzedaży\\n        \\n          Jak dbamy o Twoje dane osobowe\\n        \\n          Polityka prywatności\\n        \\n          Polityka transparentności\\n        \\n          Zgody\\n        \\n          Regulamin e-sprzedaży\\n         \\n      Copyright © 2000-2024. All rights reserved by Helios.pl'),\n",
       " Document(metadata={'description': 'Serwis internetowy sieci kin Helios', 'language': 'pl', 'source': 'https://helios.pl/wroclaw/kino-helios-aleja-bielany/repertuar', 'title': 'Repertuar: Kino Wrocław Helios Aleja Bielany | Helios'}, page_content='Zobacz przedpremierowo\\n  \\n    Film polski\\n      Kulej. Dwie strony medalu  od 11 października 2024 „Kulej. Dwie strony medalu” to historia Jerzego i Heleny Kulejów – najbardziej barwnego małżeństwa Polski lat 60-tych.       Dziki robot  od 11 października 2024 Historia robota ROZZUM, w skrócie \"Roz\" - który rozbija się na niezamieszkanej wyspie i musi się przystosować do surowego otoczenia.   \\n    Zobacz przedpremierowo\\n  \\n    Film polski\\n      Wrooklyn Zoo  od 18 października 2024 Uwodząca klimatem, iskrząca emocjami i pulsująca muzyką techno, hip hopu i punk rocka opowieść o burzliwej pierwszej miłości pary młodych ludzi. Ich buncie, dorastaniu i gorącym uczuciu na przekór wszystkim i wszystkiemu.       Venom 3: Ostatni taniec  od 25 października 2024 VENOM: OSTATNI TANIEC, czyli finał trylogii z Tomem Hardy’m w tytułowej roli, o jednej z największych i najbardziej złożonych postaci Marvela, w kinach od 25 października 2024r.          \\n    Newsletter\\n   Bądź na bieżąco z najnowszymi premierami, wydarzeniami i ofertami specjalnymi, kuponami rabatowymi      Zapisz mnie   Podanie adresu e-mail oznacza wyrażenie zgody na otrzymywanie informacji handlowych o charakterze marketingowym, w tym dotyczących repertuaru, wydarzeń i konkursów organizowanych przez Helios S.A. wysyłanych za pomocą środków komunikacji elektronicznej przez Helios S.A. Administratorem danych osobowych jest Helios S.A. z siedzibą w Łodzi (90-318) przy ul. Sienkiewicza 82/84. Pani/Pana dane będą przetwarzane w celu wykonania zamówionej usługi. Więcej informacji na temat przetwarzania danych osobowych znajduje się w Polityce Prywatności. \\n    Obserwuj nas\\n    Facebook  Instagram  YouTube  TikTok \\n    Aplikacje helios\\n      Sieć kin Helios  \\n        O nas\\n      \\n        Nasze kina\\n      \\n        Dla akcjonariuszy\\n      Reklama w kinachAplikacje mobilne\\n        Praca\\n      Twoje kino  \\n        Wrocław Helios Aleja Bielany\\n      \\n        Dane kontaktowe\\n      Regulamin kinaZwrotyDla firm  \\n        Reklama\\n      \\n        Wynajem sal\\n      \\n        Kupony\\n      \\n        Kontakt\\n      Dla szkół  \\n        Helios dla Szkoły\\n      \\n        Akademia Filmowa\\n      \\n        Kino na Temat\\n      \\n        Kino na Temat Jr\\n      Więcej  \\n        Jak dbamy o Twoje dane osobowe\\n      \\n        Polityka prywatności\\n      \\n        Polityka transparentności\\n      \\n        Zgody\\n      \\n        Regulamin e-sprzedaży\\n        \\n          Jak dbamy o Twoje dane osobowe\\n        \\n          Polityka prywatności\\n        \\n          Polityka transparentności\\n        \\n          Zgody\\n        \\n          Regulamin e-sprzedaży\\n         \\n      Copyright © 2000-2024. All rights reserved by Helios.pl')]"
      ]
     },
     "execution_count": 30,
     "metadata": {},
     "output_type": "execute_result"
    }
   ],
   "source": [
    "from langchain_core.output_parsers import StrOutputParser\n",
    "from langchain_core.runnables import RunnablePassthrough\n",
    "from langchain_chroma import Chroma\n",
    "from langchain_text_splitters import RecursiveCharacterTextSplitter\n",
    "from langchain_huggingface import HuggingFaceEmbeddings\n",
    "\n",
    "splits = RecursiveCharacterTextSplitter().split_documents(page)\n",
    "\n",
    "vectorstore = Chroma.from_documents(documents=splits, embedding=HuggingFaceEmbeddings(model_name=\"sentence-transformers/all-mpnet-base-v2\"),)\n",
    "\n",
    "# Retrieve and generate using the relevant snippets of the blog.\n",
    "retriever = vectorstore.as_retriever()\n",
    "\n",
    "def format_docs(docs):\n",
    "  return \"\\n\\n\".join(doc.page_content for doc in docs)\n",
    "\n",
    "USER_INPUT = (\n",
    "  \"\"\"\n",
    "Użytkownik chce stworzyć narzędzie umożliwiające znajdywanie aktualnie wyświetlanych filmów w kinach Helios. Dodatkowo, chce uzyskać oceny tych filmów z serwisów takich jak IMDb i Rotten Tomatoes oraz mieć prosty dostęp do trailerów. Użytkownik oczekuje, że dla każdego filmu zostaną zwrócone takie informacje jak: tytuł, czas trwania i gatunek.\n",
    "  \"\"\"\n",
    ")\n",
    "relevant_docs = retriever.get_relevant_documents(USER_INPUT)\n",
    "relevant_docs"
   ]
  },
  {
   "cell_type": "code",
   "execution_count": 28,
   "metadata": {},
   "outputs": [
    {
     "name": "stderr",
     "output_type": "stream",
     "text": [
      "/home/jakubner/anaconda3/lib/python3.11/site-packages/langsmith/client.py:323: LangSmithMissingAPIKeyWarning: API key must be provided when using hosted LangSmith API\n",
      "  warnings.warn(\n"
     ]
    },
    {
     "ename": "ValidationError",
     "evalue": "1 validation error for Generation\ntext\n  Input should be a valid string [type=string_type, input_value=ChatPromptValue(messages=... response_metadata={})]), input_type=ChatPromptValue]\n    For further information visit https://errors.pydantic.dev/2.9/v/string_type",
     "output_type": "error",
     "traceback": [
      "\u001b[0;31m---------------------------------------------------------------------------\u001b[0m",
      "\u001b[0;31mValidationError\u001b[0m                           Traceback (most recent call last)",
      "Cell \u001b[0;32mIn[28], line 16\u001b[0m\n\u001b[1;32m     10\u001b[0m \u001b[38;5;66;03m# USER_INPUT = \"U: Jakie filmy są aktualnie grane w kinie Helios?\"\u001b[39;00m\n\u001b[1;32m     11\u001b[0m USER_INPUT \u001b[38;5;241m=\u001b[39m (\n\u001b[1;32m     12\u001b[0m \u001b[38;5;250m  \u001b[39m\u001b[38;5;124;03m\"\"\"\u001b[39;00m\n\u001b[1;32m     13\u001b[0m \u001b[38;5;124;03mUżytkownik chce stworzyć narzędzie umożliwiające znajdywanie aktualnie wyświetlanych filmów w kinach Helios. Dodatkowo, chce uzyskać oceny tych filmów z serwisów takich jak IMDb i Rotten Tomatoes oraz mieć prosty dostęp do trailerów. Użytkownik oczekuje, że dla każdego filmu zostaną zwrócone takie informacje jak: tytuł, czas trwania i gatunek.\u001b[39;00m\n\u001b[1;32m     14\u001b[0m \u001b[38;5;124;03m  \"\"\"\u001b[39;00m\n\u001b[1;32m     15\u001b[0m )\n\u001b[0;32m---> 16\u001b[0m rag_chain\u001b[38;5;241m.\u001b[39minvoke(\u001b[38;5;124m\"\u001b[39m\u001b[38;5;124mZnajdź filmy\u001b[39m\u001b[38;5;124m\"\u001b[39m)\n",
      "File \u001b[0;32m~/anaconda3/lib/python3.11/site-packages/langchain_core/runnables/base.py:3022\u001b[0m, in \u001b[0;36mRunnableSequence.invoke\u001b[0;34m(self, input, config, **kwargs)\u001b[0m\n\u001b[1;32m   3020\u001b[0m             \u001b[38;5;28minput\u001b[39m \u001b[38;5;241m=\u001b[39m context\u001b[38;5;241m.\u001b[39mrun(step\u001b[38;5;241m.\u001b[39minvoke, \u001b[38;5;28minput\u001b[39m, config, \u001b[38;5;241m*\u001b[39m\u001b[38;5;241m*\u001b[39mkwargs)\n\u001b[1;32m   3021\u001b[0m         \u001b[38;5;28;01melse\u001b[39;00m:\n\u001b[0;32m-> 3022\u001b[0m             \u001b[38;5;28minput\u001b[39m \u001b[38;5;241m=\u001b[39m context\u001b[38;5;241m.\u001b[39mrun(step\u001b[38;5;241m.\u001b[39minvoke, \u001b[38;5;28minput\u001b[39m, config)\n\u001b[1;32m   3023\u001b[0m \u001b[38;5;66;03m# finish the root run\u001b[39;00m\n\u001b[1;32m   3024\u001b[0m \u001b[38;5;28;01mexcept\u001b[39;00m \u001b[38;5;167;01mBaseException\u001b[39;00m \u001b[38;5;28;01mas\u001b[39;00m e:\n",
      "File \u001b[0;32m~/anaconda3/lib/python3.11/site-packages/langchain_core/output_parsers/base.py:194\u001b[0m, in \u001b[0;36mBaseOutputParser.invoke\u001b[0;34m(self, input, config)\u001b[0m\n\u001b[1;32m    185\u001b[0m     \u001b[38;5;28;01mreturn\u001b[39;00m \u001b[38;5;28mself\u001b[39m\u001b[38;5;241m.\u001b[39m_call_with_config(\n\u001b[1;32m    186\u001b[0m         \u001b[38;5;28;01mlambda\u001b[39;00m inner_input: \u001b[38;5;28mself\u001b[39m\u001b[38;5;241m.\u001b[39mparse_result(\n\u001b[1;32m    187\u001b[0m             [ChatGeneration(message\u001b[38;5;241m=\u001b[39minner_input)]\n\u001b[0;32m   (...)\u001b[0m\n\u001b[1;32m    191\u001b[0m         run_type\u001b[38;5;241m=\u001b[39m\u001b[38;5;124m\"\u001b[39m\u001b[38;5;124mparser\u001b[39m\u001b[38;5;124m\"\u001b[39m,\n\u001b[1;32m    192\u001b[0m     )\n\u001b[1;32m    193\u001b[0m \u001b[38;5;28;01melse\u001b[39;00m:\n\u001b[0;32m--> 194\u001b[0m     \u001b[38;5;28;01mreturn\u001b[39;00m \u001b[38;5;28mself\u001b[39m\u001b[38;5;241m.\u001b[39m_call_with_config(\n\u001b[1;32m    195\u001b[0m         \u001b[38;5;28;01mlambda\u001b[39;00m inner_input: \u001b[38;5;28mself\u001b[39m\u001b[38;5;241m.\u001b[39mparse_result([Generation(text\u001b[38;5;241m=\u001b[39minner_input)]),\n\u001b[1;32m    196\u001b[0m         \u001b[38;5;28minput\u001b[39m,\n\u001b[1;32m    197\u001b[0m         config,\n\u001b[1;32m    198\u001b[0m         run_type\u001b[38;5;241m=\u001b[39m\u001b[38;5;124m\"\u001b[39m\u001b[38;5;124mparser\u001b[39m\u001b[38;5;124m\"\u001b[39m,\n\u001b[1;32m    199\u001b[0m     )\n",
      "File \u001b[0;32m~/anaconda3/lib/python3.11/site-packages/langchain_core/runnables/base.py:1923\u001b[0m, in \u001b[0;36mRunnable._call_with_config\u001b[0;34m(self, func, input, config, run_type, serialized, **kwargs)\u001b[0m\n\u001b[1;32m   1919\u001b[0m     context \u001b[38;5;241m=\u001b[39m copy_context()\n\u001b[1;32m   1920\u001b[0m     context\u001b[38;5;241m.\u001b[39mrun(_set_config_context, child_config)\n\u001b[1;32m   1921\u001b[0m     output \u001b[38;5;241m=\u001b[39m cast(\n\u001b[1;32m   1922\u001b[0m         Output,\n\u001b[0;32m-> 1923\u001b[0m         context\u001b[38;5;241m.\u001b[39mrun(\n\u001b[1;32m   1924\u001b[0m             call_func_with_variable_args,  \u001b[38;5;66;03m# type: ignore[arg-type]\u001b[39;00m\n\u001b[1;32m   1925\u001b[0m             func,  \u001b[38;5;66;03m# type: ignore[arg-type]\u001b[39;00m\n\u001b[1;32m   1926\u001b[0m             \u001b[38;5;28minput\u001b[39m,  \u001b[38;5;66;03m# type: ignore[arg-type]\u001b[39;00m\n\u001b[1;32m   1927\u001b[0m             config,\n\u001b[1;32m   1928\u001b[0m             run_manager,\n\u001b[1;32m   1929\u001b[0m             \u001b[38;5;241m*\u001b[39m\u001b[38;5;241m*\u001b[39mkwargs,\n\u001b[1;32m   1930\u001b[0m         ),\n\u001b[1;32m   1931\u001b[0m     )\n\u001b[1;32m   1932\u001b[0m \u001b[38;5;28;01mexcept\u001b[39;00m \u001b[38;5;167;01mBaseException\u001b[39;00m \u001b[38;5;28;01mas\u001b[39;00m e:\n\u001b[1;32m   1933\u001b[0m     run_manager\u001b[38;5;241m.\u001b[39mon_chain_error(e)\n",
      "File \u001b[0;32m~/anaconda3/lib/python3.11/site-packages/langchain_core/runnables/config.py:396\u001b[0m, in \u001b[0;36mcall_func_with_variable_args\u001b[0;34m(func, input, config, run_manager, **kwargs)\u001b[0m\n\u001b[1;32m    394\u001b[0m \u001b[38;5;28;01mif\u001b[39;00m run_manager \u001b[38;5;129;01mis\u001b[39;00m \u001b[38;5;129;01mnot\u001b[39;00m \u001b[38;5;28;01mNone\u001b[39;00m \u001b[38;5;129;01mand\u001b[39;00m accepts_run_manager(func):\n\u001b[1;32m    395\u001b[0m     kwargs[\u001b[38;5;124m\"\u001b[39m\u001b[38;5;124mrun_manager\u001b[39m\u001b[38;5;124m\"\u001b[39m] \u001b[38;5;241m=\u001b[39m run_manager\n\u001b[0;32m--> 396\u001b[0m \u001b[38;5;28;01mreturn\u001b[39;00m func(\u001b[38;5;28minput\u001b[39m, \u001b[38;5;241m*\u001b[39m\u001b[38;5;241m*\u001b[39mkwargs)\n",
      "File \u001b[0;32m~/anaconda3/lib/python3.11/site-packages/langchain_core/output_parsers/base.py:195\u001b[0m, in \u001b[0;36mBaseOutputParser.invoke.<locals>.<lambda>\u001b[0;34m(inner_input)\u001b[0m\n\u001b[1;32m    185\u001b[0m     \u001b[38;5;28;01mreturn\u001b[39;00m \u001b[38;5;28mself\u001b[39m\u001b[38;5;241m.\u001b[39m_call_with_config(\n\u001b[1;32m    186\u001b[0m         \u001b[38;5;28;01mlambda\u001b[39;00m inner_input: \u001b[38;5;28mself\u001b[39m\u001b[38;5;241m.\u001b[39mparse_result(\n\u001b[1;32m    187\u001b[0m             [ChatGeneration(message\u001b[38;5;241m=\u001b[39minner_input)]\n\u001b[0;32m   (...)\u001b[0m\n\u001b[1;32m    191\u001b[0m         run_type\u001b[38;5;241m=\u001b[39m\u001b[38;5;124m\"\u001b[39m\u001b[38;5;124mparser\u001b[39m\u001b[38;5;124m\"\u001b[39m,\n\u001b[1;32m    192\u001b[0m     )\n\u001b[1;32m    193\u001b[0m \u001b[38;5;28;01melse\u001b[39;00m:\n\u001b[1;32m    194\u001b[0m     \u001b[38;5;28;01mreturn\u001b[39;00m \u001b[38;5;28mself\u001b[39m\u001b[38;5;241m.\u001b[39m_call_with_config(\n\u001b[0;32m--> 195\u001b[0m         \u001b[38;5;28;01mlambda\u001b[39;00m inner_input: \u001b[38;5;28mself\u001b[39m\u001b[38;5;241m.\u001b[39mparse_result([Generation(text\u001b[38;5;241m=\u001b[39minner_input)]),\n\u001b[1;32m    196\u001b[0m         \u001b[38;5;28minput\u001b[39m,\n\u001b[1;32m    197\u001b[0m         config,\n\u001b[1;32m    198\u001b[0m         run_type\u001b[38;5;241m=\u001b[39m\u001b[38;5;124m\"\u001b[39m\u001b[38;5;124mparser\u001b[39m\u001b[38;5;124m\"\u001b[39m,\n\u001b[1;32m    199\u001b[0m     )\n",
      "File \u001b[0;32m~/anaconda3/lib/python3.11/site-packages/langchain_core/load/serializable.py:110\u001b[0m, in \u001b[0;36mSerializable.__init__\u001b[0;34m(self, *args, **kwargs)\u001b[0m\n\u001b[1;32m    108\u001b[0m \u001b[38;5;28;01mdef\u001b[39;00m \u001b[38;5;21m__init__\u001b[39m(\u001b[38;5;28mself\u001b[39m, \u001b[38;5;241m*\u001b[39margs: Any, \u001b[38;5;241m*\u001b[39m\u001b[38;5;241m*\u001b[39mkwargs: Any) \u001b[38;5;241m-\u001b[39m\u001b[38;5;241m>\u001b[39m \u001b[38;5;28;01mNone\u001b[39;00m:\n\u001b[1;32m    109\u001b[0m \u001b[38;5;250m    \u001b[39m\u001b[38;5;124;03m\"\"\"\"\"\"\u001b[39;00m\n\u001b[0;32m--> 110\u001b[0m     \u001b[38;5;28msuper\u001b[39m()\u001b[38;5;241m.\u001b[39m\u001b[38;5;21m__init__\u001b[39m(\u001b[38;5;241m*\u001b[39margs, \u001b[38;5;241m*\u001b[39m\u001b[38;5;241m*\u001b[39mkwargs)\n",
      "File \u001b[0;32m~/anaconda3/lib/python3.11/site-packages/pydantic/main.py:212\u001b[0m, in \u001b[0;36mBaseModel.__init__\u001b[0;34m(self, **data)\u001b[0m\n\u001b[1;32m    210\u001b[0m \u001b[38;5;66;03m# `__tracebackhide__` tells pytest and some other tools to omit this function from tracebacks\u001b[39;00m\n\u001b[1;32m    211\u001b[0m __tracebackhide__ \u001b[38;5;241m=\u001b[39m \u001b[38;5;28;01mTrue\u001b[39;00m\n\u001b[0;32m--> 212\u001b[0m validated_self \u001b[38;5;241m=\u001b[39m \u001b[38;5;28mself\u001b[39m\u001b[38;5;241m.\u001b[39m__pydantic_validator__\u001b[38;5;241m.\u001b[39mvalidate_python(data, self_instance\u001b[38;5;241m=\u001b[39m\u001b[38;5;28mself\u001b[39m)\n\u001b[1;32m    213\u001b[0m \u001b[38;5;28;01mif\u001b[39;00m \u001b[38;5;28mself\u001b[39m \u001b[38;5;129;01mis\u001b[39;00m \u001b[38;5;129;01mnot\u001b[39;00m validated_self:\n\u001b[1;32m    214\u001b[0m     warnings\u001b[38;5;241m.\u001b[39mwarn(\n\u001b[1;32m    215\u001b[0m         \u001b[38;5;124m'\u001b[39m\u001b[38;5;124mA custom validator is returning a value other than `self`.\u001b[39m\u001b[38;5;130;01m\\n\u001b[39;00m\u001b[38;5;124m'\u001b[39m\n\u001b[1;32m    216\u001b[0m         \u001b[38;5;124m\"\u001b[39m\u001b[38;5;124mReturning anything other than `self` from a top level model validator isn\u001b[39m\u001b[38;5;124m'\u001b[39m\u001b[38;5;124mt supported when validating via `__init__`.\u001b[39m\u001b[38;5;130;01m\\n\u001b[39;00m\u001b[38;5;124m\"\u001b[39m\n\u001b[1;32m    217\u001b[0m         \u001b[38;5;124m'\u001b[39m\u001b[38;5;124mSee the `model_validator` docs (https://docs.pydantic.dev/latest/concepts/validators/#model-validators) for more details.\u001b[39m\u001b[38;5;124m'\u001b[39m,\n\u001b[1;32m    218\u001b[0m         category\u001b[38;5;241m=\u001b[39m\u001b[38;5;28;01mNone\u001b[39;00m,\n\u001b[1;32m    219\u001b[0m     )\n",
      "\u001b[0;31mValidationError\u001b[0m: 1 validation error for Generation\ntext\n  Input should be a valid string [type=string_type, input_value=ChatPromptValue(messages=... response_metadata={})]), input_type=ChatPromptValue]\n    For further information visit https://errors.pydantic.dev/2.9/v/string_type"
     ]
    }
   ],
   "source": [
    "# from langchain import hub\n",
    "# prompt = hub.pull(\"rlm/rag-prompt\")\n",
    "\n",
    "# rag_chain = (\n",
    "#     {\"context\": retriever | format_docs, \"question\": RunnablePassthrough()}\n",
    "#     | prompt\n",
    "#     | StrOutputParser()\n",
    "# )\n",
    "\n",
    "# # USER_INPUT = \"U: Jakie filmy są aktualnie grane w kinie Helios?\"\n",
    "\n",
    "# rag_chain.invoke(\"Znajdź filmy\")\n"
   ]
  }
 ],
 "metadata": {
  "kernelspec": {
   "display_name": "base",
   "language": "python",
   "name": "python3"
  },
  "language_info": {
   "codemirror_mode": {
    "name": "ipython",
    "version": 3
   },
   "file_extension": ".py",
   "mimetype": "text/x-python",
   "name": "python",
   "nbconvert_exporter": "python",
   "pygments_lexer": "ipython3",
   "version": "3.11.5"
  }
 },
 "nbformat": 4,
 "nbformat_minor": 2
}
